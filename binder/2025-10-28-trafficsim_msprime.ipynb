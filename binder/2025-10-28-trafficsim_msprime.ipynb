{
 "cells": [
  {
   "cell_type": "code",
   "execution_count": null,
   "metadata": {},
   "outputs": [],
   "source": [
    "%load_ext watermark\n"
   ]
  },
  {
   "cell_type": "code",
   "execution_count": null,
   "metadata": {},
   "outputs": [],
   "source": [
    "import os\n",
    "\n",
    "from IPython.display import display\n",
    "import numpy as np\n",
    "import pandas as pd\n",
    "import seaborn as sns\n",
    "from teeplot import teeplot as tp\n",
    "\n",
    "import pylib  # noqa: F401\n"
   ]
  },
  {
   "cell_type": "code",
   "execution_count": null,
   "metadata": {},
   "outputs": [],
   "source": [
    "%watermark -diwmuv -iv\n"
   ]
  },
  {
   "cell_type": "code",
   "execution_count": null,
   "metadata": {},
   "outputs": [],
   "source": [
    "teeplot_subdir = os.environ.get(\"NOTEBOOK_NAME\", \"2025-10-27-trafficsim_msprime\")\n",
    "teeplot_subdir\n"
   ]
  },
  {
   "cell_type": "markdown",
   "metadata": {},
   "source": [
    "## Prep Data\n"
   ]
  },
  {
   "cell_type": "code",
   "execution_count": null,
   "metadata": {},
   "outputs": [],
   "source": [
    "df_traffic = pd.read_parquet(\"https://osf.io/download/7jv4d/\")\n",
    "display(df_traffic.describe()), display(df_traffic.head()), display(df_traffic.tail());\n"
   ]
  },
  {
   "cell_type": "code",
   "execution_count": null,
   "metadata": {},
   "outputs": [],
   "source": [
    "df_duration = pd.read_parquet(\"https://osf.io/download/hrq6a/\")\n",
    "display(df_duration.describe()), display(df_duration.head()), display(df_duration.tail());\n"
   ]
  },
  {
   "cell_type": "code",
   "execution_count": null,
   "metadata": {},
   "outputs": [],
   "source": [
    "df_traffic.groupby([\"num_demes\", \"time_thresh\"])[\"migration_count\"].max()\n"
   ]
  },
  {
   "cell_type": "code",
   "execution_count": null,
   "metadata": {},
   "outputs": [],
   "source": [
    "df_traffic.groupby([\"num_demes\", \"time_thresh\"])[\"migration_count\"].mean()\n"
   ]
  },
  {
   "cell_type": "code",
   "execution_count": null,
   "metadata": {},
   "outputs": [],
   "source": [
    "df_duration.groupby(\"num_demes\")[\"origin_time\"].max()\n"
   ]
  },
  {
   "cell_type": "markdown",
   "metadata": {},
   "source": [
    "## Block sample data\n"
   ]
  },
  {
   "cell_type": "code",
   "execution_count": null,
   "metadata": {},
   "outputs": [],
   "source": [
    "pop_size, = df_traffic[\"deme_size\"].unique()\n",
    "pop_size\n"
   ]
  },
  {
   "cell_type": "code",
   "execution_count": null,
   "metadata": {},
   "outputs": [],
   "source": [
    "df_traffic[\"task_id\"] = df_traffic[\"slurm_array_task_id\"].rank(method=\"dense\").astype(int) - 1\n",
    "df_traffic[\"block\"] = df_traffic[\"task_id\"] // 900\n",
    "\n",
    "df_traffic_by_block = df_traffic[\n",
    "    df_traffic[\"block\"] < 10\n",
    "].groupby(\n",
    "    [\"block\", \"num_demes\", \"time_thresh\"],\n",
    ")[\"migration_count\"].agg([\"mean\", \"max\"]).reset_index()\n",
    "df_traffic_by_block\n"
   ]
  },
  {
   "cell_type": "code",
   "execution_count": null,
   "metadata": {},
   "outputs": [],
   "source": [
    "dfm = df_traffic_by_block.melt(\n",
    "    id_vars=[\"block\", \"num_demes\", \"time_thresh\"],\n",
    "    value_vars=[\"mean\", \"max\"],\n",
    "    var_name=\"statistic\",\n",
    "    value_name=\"migration_count\",\n",
    ")\n"
   ]
  },
  {
   "cell_type": "code",
   "execution_count": null,
   "metadata": {},
   "outputs": [],
   "source": [
    "dfm[\"Memory Use (kB)\"] = (dfm[\"migration_count\"] + pop_size) * 8 / 1024\n"
   ]
  },
  {
   "cell_type": "code",
   "execution_count": null,
   "metadata": {},
   "outputs": [],
   "source": [
    "dfm[\"strategy\"] = (\n",
    "    \"tracking\\n(+prune)\"\n",
    "    + np.where(dfm[\"time_thresh\"] != np.inf, \"\\n(+batch)\", \"\")\n",
    "    + np.where(dfm[\"statistic\"] == \"mean\", \"\\n(+balance)\", \"\")\n",
    ")\n"
   ]
  },
  {
   "cell_type": "code",
   "execution_count": null,
   "metadata": {},
   "outputs": [],
   "source": [
    "dfm[\"flavor\"] = \"tracking\"\n"
   ]
  },
  {
   "cell_type": "markdown",
   "metadata": {},
   "source": [
    "## Plotting\n"
   ]
  },
  {
   "cell_type": "code",
   "execution_count": null,
   "metadata": {},
   "outputs": [],
   "source": [
    "dfp = pd.concat(\n",
    "    [\n",
    "        pd.DataFrame.from_records(\n",
    "            [\n",
    "                {\n",
    "                    \"flavor\": \"reconstruction\",\n",
    "                    \"strategy\": \"reconst\\n(32 bit)\",\n",
    "                    \"Memory Use (kB)\": pop_size * 4 / 1024,\n",
    "                },\n",
    "                {\n",
    "                    \"flavor\": \"reconstruction\",\n",
    "                    \"strategy\": \"reconst\\n(64 bit)\",\n",
    "                    \"Memory Use (kB)\": pop_size * 8 / 1024,\n",
    "                },\n",
    "                {\n",
    "                    \"flavor\": \"reconstruction\",\n",
    "                    \"strategy\": \"reconst\\n(256 bit)\",\n",
    "                    \"Memory Use (kB)\": pop_size * 32 / 1024,\n",
    "                },\n",
    "                {\n",
    "                    \"flavor\": \"tracking\",\n",
    "                    \"strategy\": \"tracking\\n(serial)\",\n",
    "                    \"Memory Use (kB)\": pop_size * 2 * 8 / 1024,\n",
    "                },\n",
    "            ]\n",
    "        ),\n",
    "        dfm[dfm[\"time_thresh\"].isin([100_000, np.inf])],\n",
    "    ],\n",
    "    ignore_index=True,\n",
    ")\n"
   ]
  },
  {
   "cell_type": "code",
   "execution_count": null,
   "metadata": {},
   "outputs": [],
   "source": [
    "with tp.teed(\n",
    "    sns.barplot,\n",
    "    data=dfp,\n",
    "    x=\"strategy\",\n",
    "    y=\"Memory Use (kB)\",\n",
    "    errorbar=(\"pi\", 100),\n",
    "    hue=\"flavor\",\n",
    "    legend=False,\n",
    "    palette=\"Pastel2\",\n",
    "    teeplot_subdir=teeplot_subdir,\n",
    "    teeplot_outexclude=[\"palette\"],\n",
    ") as ax:\n",
    "    ax.figure.set_size_inches(8, 1.5)\n",
    "    ax.set_ylim(0, None)\n",
    "    ax.set_ylabel(\"Memory kB\\n (estimated)\")\n",
    "    ax.set_xlabel(\"\")\n",
    "    sns.despine(ax=ax)\n",
    "    for i, container in enumerate(ax.containers):\n",
    "        ax.bar_label(\n",
    "            container,\n",
    "            fmt=\"%.1f\",\n",
    "            fontsize=11,\n",
    "            label_type=[\"edge\", \"center\"][i],\n",
    "        )\n"
   ]
  }
 ],
 "metadata": {
  "kernelspec": {
   "display_name": ".env",
   "language": "python",
   "name": "python3"
  },
  "language_info": {
   "codemirror_mode": {
    "name": "ipython",
    "version": 3
   },
   "file_extension": ".py",
   "mimetype": "text/x-python",
   "name": "python",
   "nbconvert_exporter": "python",
   "pygments_lexer": "ipython3"
  }
 },
 "nbformat": 4,
 "nbformat_minor": 2
}
